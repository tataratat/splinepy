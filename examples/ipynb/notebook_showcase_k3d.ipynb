{
 "cells": [
  {
   "cell_type": "markdown",
   "metadata": {},
   "source": [
    "# splinepy in Notebook\n",
    "\n",
    "*Attention, you have to enable the vedo backend **k3d**.*"
   ]
  },
  {
   "cell_type": "code",
   "execution_count": null,
   "metadata": {},
   "outputs": [],
   "source": [
    "import vedo\n",
    "\n",
    "import splinepy\n",
    "\n",
    "vedo.settings.default_backend = \"k3d\""
   ]
  },
  {
   "cell_type": "markdown",
   "metadata": {},
   "source": [
    "## Plotting examples\n",
    "\n",
    "These examples are mostly recreations of the non-notebook examples. But going step by step here we start by creating a spline.\n",
    "\n",
    "A simple nurbs of a disk with the middle missing of 120 degrees.\n",
    "\n",
    "*You might want to move the plot a little but to see it better.*"
   ]
  },
  {
   "cell_type": "code",
   "execution_count": null,
   "metadata": {},
   "outputs": [],
   "source": [
    "nurbs = splinepy.NURBS(\n",
    "    degrees=[1, 2],\n",
    "    knot_vectors=[[0, 0, 1, 1], [0, 0, 0, 1, 1, 2, 2, 2]],\n",
    "    control_points=[\n",
    "        [5.00000000e-01, 0.00000000e00],\n",
    "        [1.00000000e00, 0.00000000e00],\n",
    "        [5.00000000e-01, 2.88675135e-01],\n",
    "        [1.00000000e00, 5.77350269e-01],\n",
    "        [2.50000000e-01, 4.33012702e-01],\n",
    "        [5.00000000e-01, 8.66025404e-01],\n",
    "        [0.00000000e00, 5.77350269e-01],\n",
    "        [0.00000000e00, 1.15470054e00],\n",
    "        [-2.50000000e-01, 4.33012702e-01],\n",
    "        [-5.00000000e-01, 8.66025404e-01],\n",
    "    ],\n",
    "    weights=[\n",
    "        [1.0],\n",
    "        [1.0],\n",
    "        [0.8660254],\n",
    "        [0.8660254],\n",
    "        [1.0],\n",
    "        [1.0],\n",
    "        [0.8660254],\n",
    "        [0.8660254],\n",
    "        [1.0],\n",
    "        [1.0],\n",
    "    ],\n",
    ")\n",
    "\n",
    "nurbs.show()"
   ]
  },
  {
   "cell_type": "markdown",
   "metadata": {},
   "source": [
    "Ok now without the control points and knot vector visualization."
   ]
  },
  {
   "cell_type": "code",
   "execution_count": null,
   "metadata": {},
   "outputs": [],
   "source": [
    "nurbs.show_options[\"knots\"] = False\n",
    "nurbs.show_options[\"control_points\"] = False\n",
    "nurbs.show()"
   ]
  },
  {
   "cell_type": "markdown",
   "metadata": {},
   "source": [
    "Ok that looks nice but how about all these long arrays that you need to instantiate the nurbs. How do I know these values.\n",
    "\n",
    "You do not need to. You can use the spline creator to get the same result."
   ]
  },
  {
   "cell_type": "code",
   "execution_count": null,
   "metadata": {},
   "outputs": [],
   "source": [
    "easy_disk = splinepy.helpme.create.disk(\n",
    "    outer_radius=1.0,\n",
    "    inner_radius=0.5,\n",
    "    angle=120,\n",
    "    n_knot_spans=2,\n",
    ")\n",
    "easy_disk.show_options[\"knots\"] = False\n",
    "easy_disk.show_options[\"control_points\"] = False\n",
    "splinepy.show(\n",
    "    [\"Handmade disk\", nurbs],\n",
    "    [\"Easy disk\", easy_disk],\n",
    ")"
   ]
  },
  {
   "cell_type": "markdown",
   "metadata": {},
   "source": [
    "That was much easier. Please look into the cool other creator functions for more fun with basic splines.\n",
    "\n",
    "## Into a new Dimension\n",
    "\n",
    "Alright 2d shapes are nice but what about 3d shapes?"
   ]
  },
  {
   "cell_type": "code",
   "execution_count": null,
   "metadata": {},
   "outputs": [],
   "source": [
    "extruded = easy_disk.create.extruded(extrusion_vector=[0, 0, 1])\n",
    "revolved = easy_disk.create.revolved(axis=[1, 0, 0], angle=70)\n",
    "\n",
    "extruded.show_options[\"knots\"] = False\n",
    "revolved.show_options[\"knots\"] = False\n",
    "splinepy.show(\n",
    "    [\"Extruded\", extruded],\n",
    "    [\"Revolved\", revolved],\n",
    ")"
   ]
  },
  {
   "cell_type": "markdown",
   "metadata": {},
   "source": [
    "As you might guess this also works for 1D -> 2D spline.\n",
    "\n",
    "Ok now lets check out adding fields and arrows to the plotted splines."
   ]
  },
  {
   "cell_type": "code",
   "execution_count": null,
   "metadata": {},
   "outputs": [],
   "source": [
    "easy_disk.spline_data[\"me\"] = easy_disk\n",
    "easy_disk.show_options[\"data\"] = \"me\"\n",
    "\n",
    "easy_disk.show()"
   ]
  },
  {
   "cell_type": "markdown",
   "metadata": {},
   "source": [
    "So here we just plot the coordinate norm. But was I not promising arrows?\n",
    "\n",
    "They will be added now, if you move the plot around you can see a little but of the arrows."
   ]
  },
  {
   "cell_type": "code",
   "execution_count": null,
   "metadata": {},
   "outputs": [],
   "source": [
    "easy_disk.show_options[\"arrow_data\"] = \"me\"\n",
    "easy_disk.show()"
   ]
  },
  {
   "cell_type": "markdown",
   "metadata": {},
   "source": [
    "Have you heard of spline composition? With this method, you can create spline based microstructures in exact fashion. This is one of the highlights of the `splinepy`. For more information, please take a look at splinepy's [docs](https://tataratat.github.io/splinepy/_generated/splinepy.bezier.BezierBase.compose.html#splinepy.bezier.BezierBase.compose)\n",
    "\n",
    "Creating microstructures require two ingredients: outer spline (also known as deformation function, outer function, ...) and a microtile. For this example, we will use empty torus as outer spline and 2d cross as microtile (see other available ready-to-use microtiles [here](https://tataratat.github.io/splinepy/_generated/splinepy.microstructure.tiles.html))."
   ]
  },
  {
   "cell_type": "code",
   "execution_count": null,
   "metadata": {},
   "outputs": [],
   "source": [
    "empty_torus = splinepy.helpme.create.circle(1).create.revolved(\n",
    "    [0, 1, 0], [3, 0, 0], 360\n",
    ")\n",
    "donut = splinepy.microstructure.Microstructure(\n",
    "    deformation_function=empty_torus,\n",
    "    tiling=[3, 3],\n",
    "    microtile=splinepy.microstructure.tiles.Cross2D(),\n",
    ")\n",
    "donut.show(\n",
    "    control_points=False,\n",
    "    knots=False,\n",
    "    scalarbar=False,\n",
    "    lightning=\"off\",\n",
    ")"
   ]
  }
 ],
 "metadata": {
  "kernelspec": {
   "display_name": "splinepyenv",
   "language": "python",
   "name": "python3"
  },
  "language_info": {
   "codemirror_mode": {
    "name": "ipython",
    "version": 3
   },
   "file_extension": ".py",
   "mimetype": "text/x-python",
   "name": "python",
   "nbconvert_exporter": "python",
   "pygments_lexer": "ipython3",
   "version": "3.9.18"
  }
 },
 "nbformat": 4,
 "nbformat_minor": 2
}
